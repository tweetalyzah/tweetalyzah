{
 "cells": [
  {
   "cell_type": "code",
   "execution_count": 4,
   "metadata": {
    "collapsed": true
   },
   "outputs": [],
   "source": [
    "consumer_key = 'LkADU6NROui4yXczoqPpYWOfO'\n",
    "consumer_secret = 'zQCkhOdeJkPQXABvx5GGYlI7fnj05NcmDrdweUBSAbReSpSgbr'"
   ]
  },
  {
   "cell_type": "code",
   "execution_count": 5,
   "metadata": {
    "collapsed": true
   },
   "outputs": [],
   "source": [
    "access_token = '714744413117874177-EBk1jFqVDsk7at8UcoMNXvx8XwxEeXx'\n",
    "access_token_secret = 'gHZv6ih1ukeWVlaxcmbcQYiekVZsHb4OxbMOqmWF6ICkx'"
   ]
  },
  {
   "cell_type": "code",
   "execution_count": 6,
   "metadata": {},
   "outputs": [
    {
     "name": "stdout",
     "output_type": "stream",
     "text": [
      "RT @dj_shaily: @DD_FaFa_: Introduction to Machine Learning &amp; Face Detection in Python https://t.co/wrPXdFwk91 #Python #MachineLearning\n",
      "RT @KirkDBorne: Simple Neural Network with #Python &amp; Keras: https://t.co/qEWeYmvYYS #MachineLearning #DeepLearning #BigData #DataScience by…\n",
      "RT @weuceu: Please spread our invitation to Majorca https://t.co/HqllwRZnH6 into all your communities #ruby #python #perl #javascript #css…\n",
      "RT @KirkDBorne: Complete Tutorial to Learn #DataScience with #Python: https://t.co/PfQ5gftVCF #abdsc #BigData #MachineLearning by @Analytic…\n",
      "ジェネ系でPythonで書いてみるとかできると楽しいかなーって思ってみて、そういえばBlenderでVJされる方がいらっしゃるって噂も以前耳にしたし、BlenderでPython勉強してみるのもいいのかもしれない。\n",
      "#BabalarGünü\n",
      "#FathersDay\n",
      "#INDvPAK\n",
      "#يوم_الاب\n",
      "#FelizDomingo\n",
      "매그너스\n",
      "父の日\n",
      "외교부\n",
      "Ant McPartlin\n",
      "内閣支持率急落\n",
      "SILVER JUBILEE YEAR FOR AJITH\n",
      "CZAR VIJAY BDAY COMMON DP\n",
      "임찬규\n",
      "노바족\n",
      "차원의 도서관\n",
      "#البنك_الاهلي_يوخر_الرواتب\n",
      "#JHMSMiniTrails\n",
      "#FeteDesPeres\n",
      "#تغريده_فيها_ذكر_الله\n",
      "#AFLDogsDees\n",
      "#CupKaMoh\n",
      "#vaderdag\n",
      "#WorstWaysToStartALoveLetter\n",
      "#Woronicza17\n",
      "#WardKovalev2\n",
      "#BogotaEstoyContigo\n",
      "#NRLEelsDragons\n",
      "#あなたの名前だけ見て勝手に想像してみる\n",
      "#BuonaDomenica\n",
      "#LoseALetterSpoilASong\n",
      "#4WordDisappointments\n",
      "#تحياتي_واشواقي_متخرفن\n",
      "#HappyBirthdayJoshDun\n",
      "#SundayMorning\n",
      "#18juin\n",
      "#KyivPride2017\n",
      "#AVoté\n",
      "#WelcomeTwinsCarters\n",
      "#نتايج_التحصيلي\n",
      "#الجناح_الملكي_بنارسس\n",
      "#DomingoDetremuraSDV\n",
      "#k1_wgp\n",
      "#JungleLandSeru\n",
      "#اعلان_يستفزك\n",
      "#pedrogaogrande\n",
      "#عيديتك_مع_رغد_محمد٣\n",
      "#WhatImKnownFor\n",
      "#خالد_الفيصل_العرضيات_تنزف\n",
      "#ShakespeareSunday\n",
      "#EssentiallySpeaking\n"
     ]
    }
   ],
   "source": [
    "import tweepy\n",
    "\n",
    "\n",
    "auth = tweepy.OAuthHandler(consumer_key, consumer_secret)\n",
    "auth.set_access_token(access_token, access_token_secret)\n",
    "twitter_api = tweepy.API(auth)\n",
    "\n",
    "# Search stuff\n",
    "search_results = tweepy.Cursor(twitter_api.search, q = \"Python\").items(5)\n",
    "for result in search_results:\n",
    "    print(result.text)\n",
    "\n",
    "trends = twitter_api.trends_place(1)\n",
    "\n",
    "for trend in trends[0][\"trends\"]:\n",
    "    print(trend['name'])"
   ]
  },
  {
   "cell_type": "code",
   "execution_count": 8,
   "metadata": {},
   "outputs": [
    {
     "data": {
      "text/plain": [
       "[{'as_of': '2017-06-18T08:59:57Z',\n",
       "  'created_at': '2017-06-18T08:57:46Z',\n",
       "  'locations': [{'name': 'Worldwide', 'woeid': 1}],\n",
       "  'trends': [{'name': '#BabalarGünü',\n",
       "    'promoted_content': None,\n",
       "    'query': '%23BabalarG%C3%BCn%C3%BC',\n",
       "    'tweet_volume': 44027,\n",
       "    'url': 'http://twitter.com/search?q=%23BabalarG%C3%BCn%C3%BC'},\n",
       "   {'name': '#FathersDay',\n",
       "    'promoted_content': None,\n",
       "    'query': '%23FathersDay',\n",
       "    'tweet_volume': 152775,\n",
       "    'url': 'http://twitter.com/search?q=%23FathersDay'},\n",
       "   {'name': '#INDvPAK',\n",
       "    'promoted_content': None,\n",
       "    'query': '%23INDvPAK',\n",
       "    'tweet_volume': 94185,\n",
       "    'url': 'http://twitter.com/search?q=%23INDvPAK'},\n",
       "   {'name': '#يوم_الاب',\n",
       "    'promoted_content': None,\n",
       "    'query': '%23%D9%8A%D9%88%D9%85_%D8%A7%D9%84%D8%A7%D8%A8',\n",
       "    'tweet_volume': 69921,\n",
       "    'url': 'http://twitter.com/search?q=%23%D9%8A%D9%88%D9%85_%D8%A7%D9%84%D8%A7%D8%A8'},\n",
       "   {'name': '#FelizDomingo',\n",
       "    'promoted_content': None,\n",
       "    'query': '%23FelizDomingo',\n",
       "    'tweet_volume': None,\n",
       "    'url': 'http://twitter.com/search?q=%23FelizDomingo'},\n",
       "   {'name': '매그너스',\n",
       "    'promoted_content': None,\n",
       "    'query': '%EB%A7%A4%EA%B7%B8%EB%84%88%EC%8A%A4',\n",
       "    'tweet_volume': None,\n",
       "    'url': 'http://twitter.com/search?q=%EB%A7%A4%EA%B7%B8%EB%84%88%EC%8A%A4'},\n",
       "   {'name': '父の日',\n",
       "    'promoted_content': None,\n",
       "    'query': '%E7%88%B6%E3%81%AE%E6%97%A5',\n",
       "    'tweet_volume': 250048,\n",
       "    'url': 'http://twitter.com/search?q=%E7%88%B6%E3%81%AE%E6%97%A5'},\n",
       "   {'name': '외교부',\n",
       "    'promoted_content': None,\n",
       "    'query': '%EC%99%B8%EA%B5%90%EB%B6%80',\n",
       "    'tweet_volume': 24860,\n",
       "    'url': 'http://twitter.com/search?q=%EC%99%B8%EA%B5%90%EB%B6%80'},\n",
       "   {'name': 'Ant McPartlin',\n",
       "    'promoted_content': None,\n",
       "    'query': '%22Ant+McPartlin%22',\n",
       "    'tweet_volume': None,\n",
       "    'url': 'http://twitter.com/search?q=%22Ant+McPartlin%22'},\n",
       "   {'name': '内閣支持率急落',\n",
       "    'promoted_content': None,\n",
       "    'query': '%E5%86%85%E9%96%A3%E6%94%AF%E6%8C%81%E7%8E%87%E6%80%A5%E8%90%BD',\n",
       "    'tweet_volume': None,\n",
       "    'url': 'http://twitter.com/search?q=%E5%86%85%E9%96%A3%E6%94%AF%E6%8C%81%E7%8E%87%E6%80%A5%E8%90%BD'},\n",
       "   {'name': 'SILVER JUBILEE YEAR FOR AJITH',\n",
       "    'promoted_content': None,\n",
       "    'query': '%22SILVER+JUBILEE+YEAR+FOR+AJITH%22',\n",
       "    'tweet_volume': 22761,\n",
       "    'url': 'http://twitter.com/search?q=%22SILVER+JUBILEE+YEAR+FOR+AJITH%22'},\n",
       "   {'name': 'CZAR VIJAY BDAY COMMON DP',\n",
       "    'promoted_content': None,\n",
       "    'query': '%22CZAR+VIJAY+BDAY+COMMON+DP%22',\n",
       "    'tweet_volume': 95762,\n",
       "    'url': 'http://twitter.com/search?q=%22CZAR+VIJAY+BDAY+COMMON+DP%22'},\n",
       "   {'name': '임찬규',\n",
       "    'promoted_content': None,\n",
       "    'query': '%EC%9E%84%EC%B0%AC%EA%B7%9C',\n",
       "    'tweet_volume': None,\n",
       "    'url': 'http://twitter.com/search?q=%EC%9E%84%EC%B0%AC%EA%B7%9C'},\n",
       "   {'name': '노바족',\n",
       "    'promoted_content': None,\n",
       "    'query': '%EB%85%B8%EB%B0%94%EC%A1%B1',\n",
       "    'tweet_volume': None,\n",
       "    'url': 'http://twitter.com/search?q=%EB%85%B8%EB%B0%94%EC%A1%B1'},\n",
       "   {'name': '차원의 도서관',\n",
       "    'promoted_content': None,\n",
       "    'query': '%22%EC%B0%A8%EC%9B%90%EC%9D%98+%EB%8F%84%EC%84%9C%EA%B4%80%22',\n",
       "    'tweet_volume': None,\n",
       "    'url': 'http://twitter.com/search?q=%22%EC%B0%A8%EC%9B%90%EC%9D%98+%EB%8F%84%EC%84%9C%EA%B4%80%22'},\n",
       "   {'name': '#البنك_الاهلي_يوخر_الرواتب',\n",
       "    'promoted_content': None,\n",
       "    'query': '%23%D8%A7%D9%84%D8%A8%D9%86%D9%83_%D8%A7%D9%84%D8%A7%D9%87%D9%84%D9%8A_%D9%8A%D9%88%D8%AE%D8%B1_%D8%A7%D9%84%D8%B1%D9%88%D8%A7%D8%AA%D8%A8',\n",
       "    'tweet_volume': 34754,\n",
       "    'url': 'http://twitter.com/search?q=%23%D8%A7%D9%84%D8%A8%D9%86%D9%83_%D8%A7%D9%84%D8%A7%D9%87%D9%84%D9%8A_%D9%8A%D9%88%D8%AE%D8%B1_%D8%A7%D9%84%D8%B1%D9%88%D8%A7%D8%AA%D8%A8'},\n",
       "   {'name': '#JHMSMiniTrails',\n",
       "    'promoted_content': None,\n",
       "    'query': '%23JHMSMiniTrails',\n",
       "    'tweet_volume': None,\n",
       "    'url': 'http://twitter.com/search?q=%23JHMSMiniTrails'},\n",
       "   {'name': '#FeteDesPeres',\n",
       "    'promoted_content': None,\n",
       "    'query': '%23FeteDesPeres',\n",
       "    'tweet_volume': None,\n",
       "    'url': 'http://twitter.com/search?q=%23FeteDesPeres'},\n",
       "   {'name': '#تغريده_فيها_ذكر_الله',\n",
       "    'promoted_content': None,\n",
       "    'query': '%23%D8%AA%D8%BA%D8%B1%D9%8A%D8%AF%D9%87_%D9%81%D9%8A%D9%87%D8%A7_%D8%B0%D9%83%D8%B1_%D8%A7%D9%84%D9%84%D9%87',\n",
       "    'tweet_volume': None,\n",
       "    'url': 'http://twitter.com/search?q=%23%D8%AA%D8%BA%D8%B1%D9%8A%D8%AF%D9%87_%D9%81%D9%8A%D9%87%D8%A7_%D8%B0%D9%83%D8%B1_%D8%A7%D9%84%D9%84%D9%87'},\n",
       "   {'name': '#AFLDogsDees',\n",
       "    'promoted_content': None,\n",
       "    'query': '%23AFLDogsDees',\n",
       "    'tweet_volume': None,\n",
       "    'url': 'http://twitter.com/search?q=%23AFLDogsDees'},\n",
       "   {'name': '#CupKaMoh',\n",
       "    'promoted_content': None,\n",
       "    'query': '%23CupKaMoh',\n",
       "    'tweet_volume': None,\n",
       "    'url': 'http://twitter.com/search?q=%23CupKaMoh'},\n",
       "   {'name': '#vaderdag',\n",
       "    'promoted_content': None,\n",
       "    'query': '%23vaderdag',\n",
       "    'tweet_volume': None,\n",
       "    'url': 'http://twitter.com/search?q=%23vaderdag'},\n",
       "   {'name': '#WorstWaysToStartALoveLetter',\n",
       "    'promoted_content': None,\n",
       "    'query': '%23WorstWaysToStartALoveLetter',\n",
       "    'tweet_volume': None,\n",
       "    'url': 'http://twitter.com/search?q=%23WorstWaysToStartALoveLetter'},\n",
       "   {'name': '#Woronicza17',\n",
       "    'promoted_content': None,\n",
       "    'query': '%23Woronicza17',\n",
       "    'tweet_volume': None,\n",
       "    'url': 'http://twitter.com/search?q=%23Woronicza17'},\n",
       "   {'name': '#WardKovalev2',\n",
       "    'promoted_content': None,\n",
       "    'query': '%23WardKovalev2',\n",
       "    'tweet_volume': 31625,\n",
       "    'url': 'http://twitter.com/search?q=%23WardKovalev2'},\n",
       "   {'name': '#BogotaEstoyContigo',\n",
       "    'promoted_content': None,\n",
       "    'query': '%23BogotaEstoyContigo',\n",
       "    'tweet_volume': 23879,\n",
       "    'url': 'http://twitter.com/search?q=%23BogotaEstoyContigo'},\n",
       "   {'name': '#NRLEelsDragons',\n",
       "    'promoted_content': None,\n",
       "    'query': '%23NRLEelsDragons',\n",
       "    'tweet_volume': None,\n",
       "    'url': 'http://twitter.com/search?q=%23NRLEelsDragons'},\n",
       "   {'name': '#あなたの名前だけ見て勝手に想像してみる',\n",
       "    'promoted_content': None,\n",
       "    'query': '%23%E3%81%82%E3%81%AA%E3%81%9F%E3%81%AE%E5%90%8D%E5%89%8D%E3%81%A0%E3%81%91%E8%A6%8B%E3%81%A6%E5%8B%9D%E6%89%8B%E3%81%AB%E6%83%B3%E5%83%8F%E3%81%97%E3%81%A6%E3%81%BF%E3%82%8B',\n",
       "    'tweet_volume': None,\n",
       "    'url': 'http://twitter.com/search?q=%23%E3%81%82%E3%81%AA%E3%81%9F%E3%81%AE%E5%90%8D%E5%89%8D%E3%81%A0%E3%81%91%E8%A6%8B%E3%81%A6%E5%8B%9D%E6%89%8B%E3%81%AB%E6%83%B3%E5%83%8F%E3%81%97%E3%81%A6%E3%81%BF%E3%82%8B'},\n",
       "   {'name': '#BuonaDomenica',\n",
       "    'promoted_content': None,\n",
       "    'query': '%23BuonaDomenica',\n",
       "    'tweet_volume': None,\n",
       "    'url': 'http://twitter.com/search?q=%23BuonaDomenica'},\n",
       "   {'name': '#LoseALetterSpoilASong',\n",
       "    'promoted_content': None,\n",
       "    'query': '%23LoseALetterSpoilASong',\n",
       "    'tweet_volume': None,\n",
       "    'url': 'http://twitter.com/search?q=%23LoseALetterSpoilASong'},\n",
       "   {'name': '#4WordDisappointments',\n",
       "    'promoted_content': None,\n",
       "    'query': '%234WordDisappointments',\n",
       "    'tweet_volume': 31400,\n",
       "    'url': 'http://twitter.com/search?q=%234WordDisappointments'},\n",
       "   {'name': '#تحياتي_واشواقي_متخرفن',\n",
       "    'promoted_content': None,\n",
       "    'query': '%23%D8%AA%D8%AD%D9%8A%D8%A7%D8%AA%D9%8A_%D9%88%D8%A7%D8%B4%D9%88%D8%A7%D9%82%D9%8A_%D9%85%D8%AA%D8%AE%D8%B1%D9%81%D9%86',\n",
       "    'tweet_volume': 33332,\n",
       "    'url': 'http://twitter.com/search?q=%23%D8%AA%D8%AD%D9%8A%D8%A7%D8%AA%D9%8A_%D9%88%D8%A7%D8%B4%D9%88%D8%A7%D9%82%D9%8A_%D9%85%D8%AA%D8%AE%D8%B1%D9%81%D9%86'},\n",
       "   {'name': '#HappyBirthdayJoshDun',\n",
       "    'promoted_content': None,\n",
       "    'query': '%23HappyBirthdayJoshDun',\n",
       "    'tweet_volume': 20097,\n",
       "    'url': 'http://twitter.com/search?q=%23HappyBirthdayJoshDun'},\n",
       "   {'name': '#SundayMorning',\n",
       "    'promoted_content': None,\n",
       "    'query': '%23SundayMorning',\n",
       "    'tweet_volume': 17436,\n",
       "    'url': 'http://twitter.com/search?q=%23SundayMorning'},\n",
       "   {'name': '#18juin',\n",
       "    'promoted_content': None,\n",
       "    'query': '%2318juin',\n",
       "    'tweet_volume': None,\n",
       "    'url': 'http://twitter.com/search?q=%2318juin'},\n",
       "   {'name': '#KyivPride2017',\n",
       "    'promoted_content': None,\n",
       "    'query': '%23KyivPride2017',\n",
       "    'tweet_volume': None,\n",
       "    'url': 'http://twitter.com/search?q=%23KyivPride2017'},\n",
       "   {'name': '#AVoté',\n",
       "    'promoted_content': None,\n",
       "    'query': '%23AVot%C3%A9',\n",
       "    'tweet_volume': None,\n",
       "    'url': 'http://twitter.com/search?q=%23AVot%C3%A9'},\n",
       "   {'name': '#WelcomeTwinsCarters',\n",
       "    'promoted_content': None,\n",
       "    'query': '%23WelcomeTwinsCarters',\n",
       "    'tweet_volume': 18024,\n",
       "    'url': 'http://twitter.com/search?q=%23WelcomeTwinsCarters'},\n",
       "   {'name': '#نتايج_التحصيلي',\n",
       "    'promoted_content': None,\n",
       "    'query': '%23%D9%86%D8%AA%D8%A7%D9%8A%D8%AC_%D8%A7%D9%84%D8%AA%D8%AD%D8%B5%D9%8A%D9%84%D9%8A',\n",
       "    'tweet_volume': None,\n",
       "    'url': 'http://twitter.com/search?q=%23%D9%86%D8%AA%D8%A7%D9%8A%D8%AC_%D8%A7%D9%84%D8%AA%D8%AD%D8%B5%D9%8A%D9%84%D9%8A'},\n",
       "   {'name': '#الجناح_الملكي_بنارسس',\n",
       "    'promoted_content': None,\n",
       "    'query': '%23%D8%A7%D9%84%D8%AC%D9%86%D8%A7%D8%AD_%D8%A7%D9%84%D9%85%D9%84%D9%83%D9%8A_%D8%A8%D9%86%D8%A7%D8%B1%D8%B3%D8%B3',\n",
       "    'tweet_volume': None,\n",
       "    'url': 'http://twitter.com/search?q=%23%D8%A7%D9%84%D8%AC%D9%86%D8%A7%D8%AD_%D8%A7%D9%84%D9%85%D9%84%D9%83%D9%8A_%D8%A8%D9%86%D8%A7%D8%B1%D8%B3%D8%B3'},\n",
       "   {'name': '#DomingoDetremuraSDV',\n",
       "    'promoted_content': None,\n",
       "    'query': '%23DomingoDetremuraSDV',\n",
       "    'tweet_volume': None,\n",
       "    'url': 'http://twitter.com/search?q=%23DomingoDetremuraSDV'},\n",
       "   {'name': '#k1_wgp',\n",
       "    'promoted_content': None,\n",
       "    'query': '%23k1_wgp',\n",
       "    'tweet_volume': None,\n",
       "    'url': 'http://twitter.com/search?q=%23k1_wgp'},\n",
       "   {'name': '#JungleLandSeru',\n",
       "    'promoted_content': None,\n",
       "    'query': '%23JungleLandSeru',\n",
       "    'tweet_volume': None,\n",
       "    'url': 'http://twitter.com/search?q=%23JungleLandSeru'},\n",
       "   {'name': '#اعلان_يستفزك',\n",
       "    'promoted_content': None,\n",
       "    'query': '%23%D8%A7%D8%B9%D9%84%D8%A7%D9%86_%D9%8A%D8%B3%D8%AA%D9%81%D8%B2%D9%83',\n",
       "    'tweet_volume': None,\n",
       "    'url': 'http://twitter.com/search?q=%23%D8%A7%D8%B9%D9%84%D8%A7%D9%86_%D9%8A%D8%B3%D8%AA%D9%81%D8%B2%D9%83'},\n",
       "   {'name': '#pedrogaogrande',\n",
       "    'promoted_content': None,\n",
       "    'query': '%23pedrogaogrande',\n",
       "    'tweet_volume': None,\n",
       "    'url': 'http://twitter.com/search?q=%23pedrogaogrande'},\n",
       "   {'name': '#عيديتك_مع_رغد_محمد٣',\n",
       "    'promoted_content': None,\n",
       "    'query': '%23%D8%B9%D9%8A%D8%AF%D9%8A%D8%AA%D9%83_%D9%85%D8%B9_%D8%B1%D8%BA%D8%AF_%D9%85%D8%AD%D9%85%D8%AF%D9%A3',\n",
       "    'tweet_volume': 17404,\n",
       "    'url': 'http://twitter.com/search?q=%23%D8%B9%D9%8A%D8%AF%D9%8A%D8%AA%D9%83_%D9%85%D8%B9_%D8%B1%D8%BA%D8%AF_%D9%85%D8%AD%D9%85%D8%AF%D9%A3'},\n",
       "   {'name': '#WhatImKnownFor',\n",
       "    'promoted_content': None,\n",
       "    'query': '%23WhatImKnownFor',\n",
       "    'tweet_volume': None,\n",
       "    'url': 'http://twitter.com/search?q=%23WhatImKnownFor'},\n",
       "   {'name': '#خالد_الفيصل_العرضيات_تنزف',\n",
       "    'promoted_content': None,\n",
       "    'query': '%23%D8%AE%D8%A7%D9%84%D8%AF_%D8%A7%D9%84%D9%81%D9%8A%D8%B5%D9%84_%D8%A7%D9%84%D8%B9%D8%B1%D8%B6%D9%8A%D8%A7%D8%AA_%D8%AA%D9%86%D8%B2%D9%81',\n",
       "    'tweet_volume': 50382,\n",
       "    'url': 'http://twitter.com/search?q=%23%D8%AE%D8%A7%D9%84%D8%AF_%D8%A7%D9%84%D9%81%D9%8A%D8%B5%D9%84_%D8%A7%D9%84%D8%B9%D8%B1%D8%B6%D9%8A%D8%A7%D8%AA_%D8%AA%D9%86%D8%B2%D9%81'},\n",
       "   {'name': '#ShakespeareSunday',\n",
       "    'promoted_content': None,\n",
       "    'query': '%23ShakespeareSunday',\n",
       "    'tweet_volume': None,\n",
       "    'url': 'http://twitter.com/search?q=%23ShakespeareSunday'},\n",
       "   {'name': '#EssentiallySpeaking',\n",
       "    'promoted_content': None,\n",
       "    'query': '%23EssentiallySpeaking',\n",
       "    'tweet_volume': None,\n",
       "    'url': 'http://twitter.com/search?q=%23EssentiallySpeaking'}]}]"
      ]
     },
     "execution_count": 8,
     "metadata": {},
     "output_type": "execute_result"
    }
   ],
   "source": [
    "trends"
   ]
  },
  {
   "cell_type": "code",
   "execution_count": 7,
   "metadata": {},
   "outputs": [
    {
     "name": "stdout",
     "output_type": "stream",
     "text": [
      "RT @_H_0N: 드라마에서 여주가 남주에게 커피를 쏟는 장면이 나올때마다 나는 ...이런 전개를 기대해본다 http://t.co/0WkgqLp8hm 11463 Korean\n",
      "RT @BTS_twt: 오홍홍 https://t.co/DpxSg12Z3k 80598 Korean\n",
      "RT @BlackPINK_TH: ทีเซอร์คัมแบ็คสาวๆครบ 4 คนแล้ว มารอลุ้นว่า พรุ่งนี้YGจะปล่อยอะไร แล้ววันที่ 22 นี้อย่าลืมมารอฟัง ชม เพลงใหม่กันนะคะ…  12714 Thai\n",
      "['English', 'English', 'Hindi', 'Filipino', 'French', 'Arabic', 'Japanese', 'English', 'English', 'English', 'English', 'English', 'Japanese', 'English', 'Japanese', 'Thai', 'Arabic', 'Japanese', 'English', 'English', 'Korean', 'Spanish', 'Japanese', 'Japanese', 'Thai', 'Japanese', 'Japanese', 'Arabic', 'English', 'Japanese', 'Japanese', 'Lithuanian', 'Japanese', 'Korean', 'Korean', 'Arabic', 'Japanese', 'Japanese', 'Japanese', 'Japanese', 'Japanese', 'Japanese', 'Romanian', 'Japanese', 'Japanese', 'English', 'Arabic', 'English', 'English', 'Italian', 'Dutch', 'French', 'Arabic', 'Japanese', 'Japanese', 'English', 'Japanese', 'English', 'French', 'Russian', 'English', 'Arabic', 'English', 'Japanese', 'English', 'Thai', 'Japanese', 'English', 'English', 'English', 'Portuguese', 'English', 'English', 'Arabic', 'English', 'Spanish', 'Spanish', 'Thai', 'Korean', 'Filipino', 'English', 'Japanese', 'Spanish', 'Arabic', 'English', 'Arabic', 'Portuguese', 'Latvian', 'French', 'English', 'English', 'English', 'English', 'English', 'English', 'Russian', 'Italian', 'Korean', 'Japanese', 'French']\n",
      "['Korean', 'Korean', 'Thai']\n",
      "Counter({'English': 33, 'Japanese': 26, 'Arabic': 10, 'French': 5, 'Korean': 5, 'Thai': 4, 'Spanish': 4, 'Filipino': 2, 'Italian': 2, 'Russian': 2, 'Portuguese': 2, 'Hindi': 1, 'Lithuanian': 1, 'Romanian': 1, 'Dutch': 1, 'Latvian': 1})\n",
      "Counter({'Korean': 2, 'Thai': 1})\n"
     ]
    }
   ],
   "source": [
    "import tweepy\n",
    "from tweepy.streaming import StreamListener\n",
    "from tweepy import Stream\n",
    "import json\n",
    "from collections import Counter\n",
    " \n",
    "langs = {'ar': 'Arabic', 'bg': 'Bulgarian', 'ca': 'Catalan', 'cs': 'Czech', 'da': 'Danish', 'de': 'German', 'el': 'Greek', 'en': 'English', 'es': 'Spanish', 'et': 'Estonian',\n",
    "         'fa': 'Persian', 'fi': 'Finnish', 'fr': 'French', 'hi': 'Hindi', 'hr': 'Croatian', 'hu': 'Hungarian', 'id': 'Indonesian', 'is': 'Icelandic', 'it': 'Italian', 'iw': 'Hebrew',\n",
    "         'ja': 'Japanese', 'ko': 'Korean', 'lt': 'Lithuanian', 'lv': 'Latvian', 'ms': 'Malay', 'nl': 'Dutch', 'no': 'Norwegian', 'pl': 'Polish', 'pt': 'Portuguese', 'ro': 'Romanian',\n",
    "         'ru': 'Russian', 'sk': 'Slovak', 'sl': 'Slovenian', 'sr': 'Serbian', 'sv': 'Swedish', 'th': 'Thai', 'tl': 'Filipino', 'tr': 'Turkish', 'uk': 'Ukrainian', 'ur': 'Urdu',\n",
    "         'vi': 'Vietnamese', 'zh_CN': 'Chinese (simplified)', 'zh_TW': 'Chinese (traditional)'\n",
    "        }\n",
    " \n",
    " \n",
    "class twitter_listener(StreamListener):\n",
    " \n",
    "    def __init__(self, num_tweets_to_grab, retweet_count=10000):\n",
    "        self.counter = 0\n",
    "        self.num_tweets_to_grab = num_tweets_to_grab\n",
    "        self.retweet_count = retweet_count\n",
    "        self.languages = []\n",
    "        self.top_languages = []\n",
    " \n",
    "    def on_data(self, data):\n",
    "        try:\n",
    "            json_data = json.loads(data)\n",
    "            self.languages.append(langs[json_data[\"lang\"]])\n",
    " \n",
    "            self.counter += 1\n",
    "            retweet_count = json_data[\"retweeted_status\"][\"retweet_count\"]\n",
    " \n",
    "            if retweet_count >= self.retweet_count:\n",
    "                print(json_data[\"text\"], retweet_count, langs[json_data[\"lang\"]])\n",
    "                self.top_languages.append(langs[json_data[\"lang\"]])\n",
    " \n",
    "            if self.counter >= self.num_tweets_to_grab:\n",
    "                print(self.languages)\n",
    "                print(self.top_languages)\n",
    "                print(Counter(self.languages))\n",
    "                print(Counter(self.top_languages))\n",
    "                return False\n",
    " \n",
    "            return True\n",
    "        except:\n",
    "            # @TODO: Very dangerous, come back to this!\n",
    "            pass\n",
    " \n",
    "    def on_error(self, status):\n",
    "        print(status)\n",
    "\n",
    "twitter_stream = Stream(auth, twitter_listener(100))\n",
    "try:\n",
    "    twitter_stream.sample()\n",
    "except Exception as e:\n",
    "    print(e.__doc__)"
   ]
  },
  {
   "cell_type": "code",
   "execution_count": 9,
   "metadata": {
    "collapsed": true
   },
   "outputs": [],
   "source": [
    "date_str = 'Tue Dec 27 17:36:52 +0000 2016'"
   ]
  },
  {
   "cell_type": "code",
   "execution_count": 10,
   "metadata": {
    "collapsed": true
   },
   "outputs": [],
   "source": [
    "from datetime import datetime"
   ]
  },
  {
   "cell_type": "code",
   "execution_count": 13,
   "metadata": {},
   "outputs": [
    {
     "ename": "TypeError",
     "evalue": "strptime() takes exactly 2 arguments (1 given)",
     "output_type": "error",
     "traceback": [
      "\u001b[0;31m---------------------------------------------------------------------------\u001b[0m",
      "\u001b[0;31mTypeError\u001b[0m                                 Traceback (most recent call last)",
      "\u001b[0;32m<ipython-input-13-c16512d74b36>\u001b[0m in \u001b[0;36m<module>\u001b[0;34m()\u001b[0m\n\u001b[0;32m----> 1\u001b[0;31m \u001b[0mdatetime\u001b[0m\u001b[0;34m.\u001b[0m\u001b[0mstrptime\u001b[0m\u001b[0;34m(\u001b[0m\u001b[0mdate_str\u001b[0m\u001b[0;34m)\u001b[0m\u001b[0;34m\u001b[0m\u001b[0m\n\u001b[0m",
      "\u001b[0;31mTypeError\u001b[0m: strptime() takes exactly 2 arguments (1 given)"
     ]
    }
   ],
   "source": [
    "datetime.strptime(date_str)"
   ]
  },
  {
   "cell_type": "code",
   "execution_count": 16,
   "metadata": {},
   "outputs": [],
   "source": [
    "from email.utils import parsedate_tz, mktime_tz"
   ]
  },
  {
   "cell_type": "code",
   "execution_count": 44,
   "metadata": {},
   "outputs": [
    {
     "data": {
      "text/plain": [
       "-3600"
      ]
     },
     "execution_count": 44,
     "metadata": {},
     "output_type": "execute_result"
    }
   ],
   "source": [
    "mktime_tz(parsedate_tz(date_str)) - mktime_tz(parsedate_tz(date_str1))"
   ]
  },
  {
   "cell_type": "code",
   "execution_count": 47,
   "metadata": {},
   "outputs": [
    {
     "data": {
      "text/plain": [
       "1497778348.184184"
      ]
     },
     "execution_count": 47,
     "metadata": {},
     "output_type": "execute_result"
    }
   ],
   "source": []
  },
  {
   "cell_type": "code",
   "execution_count": 40,
   "metadata": {},
   "outputs": [
    {
     "data": {
      "text/plain": [
       "1497777968"
      ]
     },
     "execution_count": 40,
     "metadata": {},
     "output_type": "execute_result"
    }
   ],
   "source": []
  },
  {
   "cell_type": "code",
   "execution_count": 43,
   "metadata": {
    "collapsed": true
   },
   "outputs": [],
   "source": [
    "date_str = 'Jun 18 11:00:00 +0000 2017'\n",
    "date_str1 = 'Jun 18 12:00:00 +0000 2017'"
   ]
  },
  {
   "cell_type": "code",
   "execution_count": 42,
   "metadata": {},
   "outputs": [
    {
     "data": {
      "text/plain": [
       "86400"
      ]
     },
     "execution_count": 42,
     "metadata": {},
     "output_type": "execute_result"
    }
   ],
   "source": [
    "24 * 3600"
   ]
  },
  {
   "cell_type": "code",
   "execution_count": 46,
   "metadata": {},
   "outputs": [
    {
     "data": {
      "text/plain": [
       "3"
      ]
     },
     "execution_count": 46,
     "metadata": {},
     "output_type": "execute_result"
    }
   ],
   "source": [
    "sum(x for x in range(3))"
   ]
  },
  {
   "cell_type": "code",
   "execution_count": null,
   "metadata": {
    "collapsed": true
   },
   "outputs": [],
   "source": []
  }
 ],
 "metadata": {
  "kernelspec": {
   "display_name": "Python [conda env:twitter]",
   "language": "python",
   "name": "conda-env-twitter-py"
  },
  "language_info": {
   "codemirror_mode": {
    "name": "ipython",
    "version": 3
   },
   "file_extension": ".py",
   "mimetype": "text/x-python",
   "name": "python",
   "nbconvert_exporter": "python",
   "pygments_lexer": "ipython3",
   "version": "3.6.1"
  }
 },
 "nbformat": 4,
 "nbformat_minor": 2
}
